{
  "nbformat": 4,
  "nbformat_minor": 0,
  "metadata": {
    "kernelspec": {
      "display_name": "Python 2",
      "language": "python",
      "name": "python2"
    },
    "language_info": {
      "codemirror_mode": {
        "name": "ipython",
        "version": 2
      },
      "file_extension": ".py",
      "mimetype": "text/x-python",
      "name": "python",
      "nbconvert_exporter": "python",
      "pygments_lexer": "ipython2",
      "version": "2.7.16"
    },
    "colab": {
      "name": "Summer.ipynb",
      "provenance": [],
      "collapsed_sections": []
    }
  },
  "cells": [
    {
      "cell_type": "markdown",
      "metadata": {
        "id": "fEjIYrvEAsNy"
      },
      "source": [
        "# Summer Olympics Data Analysis Assignment"
      ]
    },
    {
      "cell_type": "code",
      "metadata": {
        "id": "OhBsPuY2AzKZ"
      },
      "source": [
        "### Name: Sejal Balram Vaswani\n",
        "## Summer data analysis "
      ],
      "execution_count": 11,
      "outputs": []
    },
    {
      "cell_type": "code",
      "metadata": {
        "id": "SjSsX6cFB6mF"
      },
      "source": [
        "import numpy as np\n",
        "import pandas as pd\n",
        "import matplotlib.pyplot as plt"
      ],
      "execution_count": 12,
      "outputs": []
    },
    {
      "cell_type": "code",
      "metadata": {
        "id": "DqZ6CoUoC5Pf"
      },
      "source": [
        "data = pd.read_csv(\"/content/summer.csv\")\n",
        "data.head()"
      ],
      "execution_count": null,
      "outputs": []
    },
    {
      "cell_type": "markdown",
      "metadata": {
        "id": "HaweFX9DAsOI"
      },
      "source": [
        "### 1. In how many cities Summer Olympics is held so far?"
      ]
    },
    {
      "cell_type": "code",
      "metadata": {
        "id": "JTeu6YwqJLI-"
      },
      "source": [
        "city_count = len(data['City'].unique())\n",
        "str1 = \"Summer Olympics has been held in \"\n",
        "str2 = \" cities so far.\"\n",
        "print(str1 + str(city_count) + str2)"
      ],
      "execution_count": null,
      "outputs": []
    },
    {
      "cell_type": "markdown",
      "metadata": {
        "id": "WYno9bvSAsOL"
      },
      "source": [
        "### 2. Which sport is having most number of Gold Medals so far? (Top 5)"
      ]
    },
    {
      "cell_type": "code",
      "metadata": {
        "id": "63xPxh8IAsOM"
      },
      "source": [
        "filter1 = data['Medal'] == 'Gold'\n",
        "data1 = data[filter1]\n",
        "golds = []\n",
        "\n",
        "for sport in data1['Sport'].unique():\n",
        "  golds.append([sport, len(data1[data1['Sport'] == sport])])\n",
        "golds = pd.DataFrame(golds, columns = ['Sport', 'Gold Frequency'])\n",
        "golds = golds.sort_values(by = 'Gold Frequency', ascending = False)\n",
        "golds = golds.reset_index()\n",
        "golds.head()"
      ],
      "execution_count": null,
      "outputs": []
    },
    {
      "cell_type": "code",
      "metadata": {
        "id": "FYMQPLstokQM"
      },
      "source": [
        "## Bar Graph\n",
        "\n",
        "plt.figure(figsize=(20,6))\n",
        "x = golds['Sport']\n",
        "y = golds['Gold Frequency']\n",
        "plt.xlabel(\"Sport\", color=\"orange\", fontsize=15)\n",
        "plt.ylabel(\"Golds\", color=\"orange\", fontsize=15)\n",
        "plt.xticks(rotation = 'vertical')\n",
        "plt.bar(x,y, color = 'mediumorchid')\n",
        "plt.show()"
      ],
      "execution_count": null,
      "outputs": []
    },
    {
      "cell_type": "markdown",
      "metadata": {
        "id": "hTtOKHpTAsOM"
      },
      "source": [
        "### 3. Which sport is having most number of medals so far? (Top 5)"
      ]
    },
    {
      "cell_type": "code",
      "metadata": {
        "id": "FF_A5GPZAsON"
      },
      "source": [
        "## as there are no null values, the number of times a sport has appeared is equal to the number of medals it has backed.\n",
        "## so, counting the number of times a sport has entered is equal to the frequency of medals.\n",
        "\n",
        "sports = []\n",
        "for sport in data['Sport'].unique():\n",
        "  sports.append([sport, len(data[data['Sport'] == sport])])\n",
        "sports = pd.DataFrame(sports, columns = ['Sport', 'Medal Frequency'])\n",
        "sports = sports.sort_values(by = 'Medal Frequency', ascending = False)\n",
        "sports = sports.reset_index()\n",
        "sports.head()"
      ],
      "execution_count": null,
      "outputs": []
    },
    {
      "cell_type": "code",
      "metadata": {
        "id": "iFtKFFxjzgys"
      },
      "source": [
        "## Bar Graph\n",
        "\n",
        "plt.figure(figsize=(12,6))\n",
        "x = sports['Sport']\n",
        "y = sports['Medal Frequency']\n",
        "plt.xlabel(\"Sport\", color=\"blue\", fontsize=15)\n",
        "plt.ylabel(\"Medals\", color=\"blue\", fontsize=15)\n",
        "plt.xticks(rotation = 'vertical')\n",
        "plt.bar(x,y, color = 'gold')\n",
        "plt.show()"
      ],
      "execution_count": null,
      "outputs": []
    },
    {
      "cell_type": "markdown",
      "metadata": {
        "id": "cabeMCsjAsOO"
      },
      "source": [
        "### 4. Which player has won most number of medals? (Top 5)"
      ]
    },
    {
      "cell_type": "code",
      "metadata": {
        "id": "BzLwhDcGAsOP"
      },
      "source": [
        "## We can apply the same logic for player as we appliest for sport in the previous question\n",
        "\n",
        "athlete = []\n",
        "for player in data['Athlete'].unique():\n",
        "  athlete.append([player, len(data[data['Athlete'] == player])])\n",
        "athlete = pd.DataFrame(athlete, columns = ['Athlete', 'Medal Frequency'])\n",
        "athlete = athlete.sort_values(by = 'Medal Frequency', ascending = False)\n",
        "athlete = athlete.reset_index()\n",
        "athlete.head()"
      ],
      "execution_count": null,
      "outputs": []
    },
    {
      "cell_type": "code",
      "metadata": {
        "id": "Om6PNyU72TGc"
      },
      "source": [
        "## Bar Graph\n",
        "\n",
        "plt.figure(figsize=(5,6))\n",
        "x = athlete['Athlete'].iloc[0:5]      ## plotting for first 5 because the dataframe is too large\n",
        "y = athlete['Medal Frequency'].iloc[0:5]\n",
        "plt.xlabel(\"Athlete\", color=\"crimson\", fontsize=15)\n",
        "plt.ylabel(\"Medals\", color=\"crimson\", fontsize=15)\n",
        "plt.xticks(rotation = 'vertical')\n",
        "plt.bar(x,y, color = 'palevioletred')\n",
        "plt.show()"
      ],
      "execution_count": null,
      "outputs": []
    },
    {
      "cell_type": "markdown",
      "metadata": {
        "id": "MoZW44HDAsOQ"
      },
      "source": [
        "### 5. Which player has won most number Gold Medals of medals? (Top 5)"
      ]
    },
    {
      "cell_type": "code",
      "metadata": {
        "id": "j9hk62HDAsOR"
      },
      "source": [
        "## We've created a Data Frame previously named as 'data1' which contains the grouped data for gold medals\n",
        "## We will use 'data1' here\n",
        "\n",
        "athlete_gold = []\n",
        "for player in data1['Athlete'].unique():\n",
        "  athlete_gold.append([player, len(data1[data1['Athlete'] == player])])\n",
        "athlete_gold = pd.DataFrame(athlete_gold, columns = ['Athlete', 'Gold Frequency'])\n",
        "athlete_gold = athlete_gold.sort_values(by = 'Gold Frequency', ascending = False)\n",
        "athlete_gold = athlete_gold.reset_index()\n",
        "athlete_gold.head()"
      ],
      "execution_count": null,
      "outputs": []
    },
    {
      "cell_type": "code",
      "metadata": {
        "id": "NdivTbtM5nSp"
      },
      "source": [
        "## Bar Graph\n",
        "\n",
        "plt.figure(figsize=(5,6))\n",
        "x = athlete_gold['Athlete'].iloc[0:5]      ## plotting for first 5 because the dataframe is too large\n",
        "y = athlete_gold['Gold Frequency'].iloc[0:5]\n",
        "plt.xlabel(\"Athlete\", color=\"slategrey\", fontsize=15)\n",
        "plt.ylabel(\"Golds\", color=\"slategrey\", fontsize=15)\n",
        "plt.xticks(rotation = 'vertical')\n",
        "plt.bar(x,y, color = 'palegreen')\n",
        "plt.show()"
      ],
      "execution_count": null,
      "outputs": []
    },
    {
      "cell_type": "markdown",
      "metadata": {
        "id": "h8r-Z6mYAsOR"
      },
      "source": [
        "### 6. In which year India won first Gold Medal in Summer Olympics?"
      ]
    },
    {
      "cell_type": "code",
      "metadata": {
        "id": "TpsP3pt8AsOS"
      },
      "source": [
        "filter = data1['Country'] == 'IND'\n",
        "India_gold_data = data1[filter].reset_index().head()\n",
        "s1 = 'India first won Gold in the year '\n",
        "print(s1 + str(India_gold_data['Year'].iloc[0]) + '.')"
      ],
      "execution_count": null,
      "outputs": []
    },
    {
      "cell_type": "markdown",
      "metadata": {
        "id": "lewQvZJdAsOS"
      },
      "source": [
        "### 7. Which event is most popular in terms on number of players? (Top 5)"
      ]
    },
    {
      "cell_type": "code",
      "metadata": {
        "id": "NEnZfhzc_m40"
      },
      "source": [
        "popular = data.groupby(['Sport', 'Athlete'], as_index = False).count()[['Sport', 'Athlete']]\n",
        "popular = popular.groupby(['Sport'], as_index = False).count()\n",
        "popular = popular.sort_values(by='Athlete', ascending=False).reset_index()\n",
        "popular.head()"
      ],
      "execution_count": null,
      "outputs": []
    },
    {
      "cell_type": "code",
      "metadata": {
        "id": "3sjatTLbAq_P"
      },
      "source": [
        "## Bar Graph\n",
        "\n",
        "plt.figure(figsize=(20,6))\n",
        "x = popular['Sport']\n",
        "y = popular['Athlete']\n",
        "plt.xlabel(\"Sport\", color=\"teal\", fontsize=15)\n",
        "plt.ylabel(\"Players\", color=\"teal\", fontsize=15)\n",
        "plt.xticks(rotation = 'vertical')\n",
        "plt.bar(x,y, color = 'firebrick')\n",
        "plt.show()"
      ],
      "execution_count": null,
      "outputs": []
    },
    {
      "cell_type": "markdown",
      "metadata": {
        "id": "BLFO1GxrAsOU"
      },
      "source": [
        "### 8. Which sport is having most female Gold Medalists? (Top 5)"
      ]
    },
    {
      "cell_type": "code",
      "metadata": {
        "id": "KhfToPB9AsOV"
      },
      "source": [
        "## first, we will filter 'data1' i.e., gold medal data for female candidates\n",
        "## No. of occurences of the sport in filtered data is equal to the sport with most female gold medalists\n",
        "\n",
        "filter_sex = data1['Gender'] == 'Women'\n",
        "gold_female = data1[filter_sex]\n",
        "golds_women = []\n",
        "for spt in gold_female['Sport'].unique():\n",
        "  golds_women.append([spt, len(gold_female[gold_female['Sport'] == spt])])\n",
        "golds_women = pd.DataFrame(golds_women, columns = ['Sport', 'Gold Frequency'])\n",
        "golds_women = golds_women.sort_values(by = 'Gold Frequency', ascending = False)\n",
        "golds_women = golds_women.reset_index()\n",
        "golds_women.head()"
      ],
      "execution_count": null,
      "outputs": []
    },
    {
      "cell_type": "code",
      "metadata": {
        "id": "msSzTyRH_xKL"
      },
      "source": [
        "## Bar Graph\n",
        "\n",
        "plt.figure(figsize=(5,6))\n",
        "x = golds_women['Sport'].iloc[0:5]      ## plotting for first 5 because the dataframe is too large\n",
        "y = golds_women['Gold Frequency'].iloc[0:5]\n",
        "plt.xlabel(\"Sport\", color=\"brown\", fontsize=15)\n",
        "plt.ylabel(\"Golds\", color=\"brown\", fontsize=15)\n",
        "plt.xticks(rotation = 'vertical')\n",
        "plt.bar(x,y, color = 'dodgerblue')\n",
        "plt.show()"
      ],
      "execution_count": null,
      "outputs": []
    }
  ]
}